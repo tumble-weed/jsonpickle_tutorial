{
 "cells": [
  {
   "cell_type": "code",
   "execution_count": 1,
   "metadata": {},
   "outputs": [],
   "source": [
    "import numpy as np\n",
    "\n",
    "class a():\n",
    "    def __init__(self):\n",
    "        self.nparray = np.random.random(size=(100,))\n",
    "        self.string = 'This is class a'\n",
    "\n",
    "class b():\n",
    "    def __init__(self):\n",
    "        self.string1 = 'Wont find an array here, bub'\n",
    "        self.string2 = 'This is class b'\n",
    "\n",
    "__all__ = ['a','b']"
   ]
  }
 ],
 "metadata": {
  "kernelspec": {
   "display_name": "Python 3",
   "language": "python",
   "name": "python3"
  },
  "language_info": {
   "codemirror_mode": {
    "name": "ipython",
    "version": 3
   },
   "file_extension": ".py",
   "mimetype": "text/x-python",
   "name": "python",
   "nbconvert_exporter": "python",
   "pygments_lexer": "ipython3",
   "version": "3.6.5"
  }
 },
 "nbformat": 4,
 "nbformat_minor": 2
}
